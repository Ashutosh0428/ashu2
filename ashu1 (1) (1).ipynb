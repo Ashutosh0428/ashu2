{
 "cells": [
  {
   "cell_type": "markdown",
   "id": "6d4231eb",
   "metadata": {},
   "source": [
    "# ASSIGNMENT 2 \n",
    "1.\n",
    "boolean data type take 2 value either true or false\n",
    "bool()\n",
    "It returns True if the parameter or value passed is True\n",
    "It returns False if the parameter or value passed is False"
   ]
  },
  {
   "cell_type": "markdown",
   "id": "6ee87692",
   "metadata": {},
   "source": [
    "2.\n",
    "\n",
    "the three type of boolean operator are\n",
    "and\n",
    "or \n",
    "not"
   ]
  },
  {
   "cell_type": "markdown",
   "id": "bbf5798f",
   "metadata": {},
   "source": [
    "3.\n",
    "#and\n",
    "True  and True is True.\n",
    "True  and False is False.\n",
    "False and True is False.\n",
    "False and False is False.\n",
    "\n",
    "#or\n",
    "True  or True is True.\n",
    "True  or False is True.\n",
    "False or True is True.\n",
    "False or False is False.\n",
    "\n",
    "#not\n",
    "not True is False.\n",
    "not False is True."
   ]
  },
  {
   "cell_type": "code",
   "execution_count": 2,
   "id": "e25d15d1",
   "metadata": {},
   "outputs": [
    {
     "data": {
      "text/plain": [
       "True"
      ]
     },
     "execution_count": 2,
     "metadata": {},
     "output_type": "execute_result"
    }
   ],
   "source": [
    "4.\n",
    "\n",
    "(5 > 4) and (3 == 5) #false                    \n",
    "not (5> 4)           #false\n",
    "(5 > 4) or (3 == 5)  #true\n",
    "not ((5 > 4) or (3 == 5))#false\n",
    "(True and True) and (True == False)#false\n",
    "(not False) or (not True)#true"
   ]
  },
  {
   "cell_type": "code",
   "execution_count": null,
   "id": "4aa5ae57",
   "metadata": {},
   "outputs": [],
   "source": [
    "5.\n",
    "\n",
    "the six comparison operators\n",
    "\n",
    " > \n",
    " < \n",
    " >= \n",
    " <= \n",
    " == \n",
    " != "
   ]
  },
  {
   "cell_type": "markdown",
   "id": "b1fdb86e",
   "metadata": {},
   "source": [
    "6.\n",
    "\n",
    "The = is an assignment operator is used to assign the value on the  variable and\n",
    "The == operator checks whether the two given operands are equal or not.\n",
    "ex-->\n",
    "a=23 #use assignment operator\n",
    "b=23 \n",
    "a==b #use equal\n",
    "the result will be true\n"
   ]
  },
  {
   "cell_type": "markdown",
   "id": "c9da7b6b",
   "metadata": {},
   "source": [
    "7.\n",
    "\n",
    "The three blocks are everything inside the if statement and the lines print('bacon') and \n",
    "print('ham').\n",
    "print('eggs')\n",
    "if spam > 5:\n",
    "print('bacon')\n",
    "else:\n",
    "print('ham')\n",
    "print('spam')\n"
   ]
  },
  {
   "cell_type": "code",
   "execution_count": 29,
   "id": "8b3eceea",
   "metadata": {},
   "outputs": [
    {
     "name": "stdout",
     "output_type": "stream",
     "text": [
      "enter the spam no:10\n",
      "Greetings!\n"
     ]
    }
   ],
   "source": [
    "8.\n",
    "\n",
    "spam = int(input(\"enter the spam no:\"))\n",
    "if spam==1:\n",
    "    print(\"hello\")\n",
    "elif spam==2:\n",
    "    print(\"Howdy\")\n",
    "else:\n",
    "    print(\"Greetings!\")"
   ]
  },
  {
   "cell_type": "code",
   "execution_count": null,
   "id": "3e9dc890",
   "metadata": {},
   "outputs": [],
   "source": [
    "9.\n",
    "\n",
    " CTRL + C"
   ]
  },
  {
   "cell_type": "markdown",
   "id": "8b35a437",
   "metadata": {},
   "source": [
    "10.\n",
    "\n",
    "break will terminates the current loop and goes out the loop,but\n",
    "continue will  continue the loop to the next iteration "
   ]
  },
  {
   "cell_type": "markdown",
   "id": "4650f6d6",
   "metadata": {},
   "source": [
    "11.\n",
    "\n",
    "there is no difference between range(10), range(0, 10), and range(0, 10, 1).they all are give the value from 0 to 9\n"
   ]
  },
  {
   "cell_type": "code",
   "execution_count": 26,
   "id": "8f179f63",
   "metadata": {},
   "outputs": [
    {
     "name": "stdout",
     "output_type": "stream",
     "text": [
      "1\n",
      "2\n",
      "3\n",
      "4\n",
      "5\n",
      "6\n",
      "7\n",
      "8\n",
      "9\n",
      "10\n",
      "1\n",
      "2\n",
      "3\n",
      "4\n",
      "5\n",
      "6\n",
      "7\n",
      "8\n",
      "9\n",
      "10\n"
     ]
    }
   ],
   "source": [
    "12.\n",
    "\n",
    "for i in range(1,11):\n",
    "    print(i)\n",
    "j=0   \n",
    "while j<10:\n",
    "    j+=1\n",
    "    print(j)"
   ]
  },
  {
   "cell_type": "markdown",
   "id": "4079ba87",
   "metadata": {},
   "source": [
    "13.\n",
    "\n",
    "spam.bacon()\n"
   ]
  },
  {
   "cell_type": "markdown",
   "id": "20bc01cf",
   "metadata": {},
   "source": []
  }
 ],
 "metadata": {
  "kernelspec": {
   "display_name": "Python 3 (ipykernel)",
   "language": "python",
   "name": "python3"
  },
  "language_info": {
   "codemirror_mode": {
    "name": "ipython",
    "version": 3
   },
   "file_extension": ".py",
   "mimetype": "text/x-python",
   "name": "python",
   "nbconvert_exporter": "python",
   "pygments_lexer": "ipython3",
   "version": "3.9.7"
  }
 },
 "nbformat": 4,
 "nbformat_minor": 5
}
